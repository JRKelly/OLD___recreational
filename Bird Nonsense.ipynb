{
 "metadata": {
  "name": "",
  "signature": "sha256:e3195f4e7b87ae781f465fd00a0984f25e001752c73ed7d5b15abc9fc30a4e1f"
 },
 "nbformat": 3,
 "nbformat_minor": 0,
 "worksheets": [
  {
   "cells": [
    {
     "cell_type": "code",
     "collapsed": false,
     "input": [
      "import numpy as np\n",
      "def flip(POS):\n",
      "    coinlist = []\n",
      "    for i in range (1, len(POS)-1):\n",
      "        coinflip = np.random.randint(0,2)\n",
      "        coinlist.append(coinflip)\n",
      "    return(coinlist)\n",
      "\n",
      "def travel(COIN, POS, delta):\n",
      "    for i in range (0, len(COIN)):\n",
      "        if COIN[i] == 0:\n",
      "            POS[i+1] = POS[i+1] - delta\n",
      "        elif COIN[i] == 1:\n",
      "            POS[i+1] = POS[i+1] + delta\n",
      "        else: print(\"error\")\n",
      "          \n",
      "    return(POS)\n"
     ],
     "language": "python",
     "metadata": {},
     "outputs": [],
     "prompt_number": 263
    },
    {
     "cell_type": "code",
     "collapsed": false,
     "input": [
      "def test_birds(POS,COIN):\n",
      "    if POS[0] >= POS[1]: # if a bird is at or beyond a pole\n",
      "        POS = POS[1:] # drop the bird\n",
      "        POS[0] = 0 #and make the first item the pole\n",
      "        COIN = COIN[1:] # and its coin\n",
      "    if POS[-1] <= POS[-2]: #same for right-hand pole\n",
      "        POS = POS[:-1]\n",
      "        POS[-1] = L\n",
      "        COIN = COIN[:-1]\n",
      "    for i in range(1,len(POS)-1): # just birds, no poles\n",
      "        if POS[i] >= POS[i+1]: # if two birds are at the same location or beyond\n",
      "            COIN[i] = 1 - COIN[i] # reverse their directions\n",
      "            COIN[i-1] = 1 - COIN[i-1]\n",
      "    return(POS, COIN)"
     ],
     "language": "python",
     "metadata": {},
     "outputs": [],
     "prompt_number": 264
    },
    {
     "cell_type": "code",
     "collapsed": false,
     "input": [
      "total_iter = 0\n",
      "for j in range(0,100000):\n",
      "    birds = [\"pole\",\"1\", \"2\", \"3\", \"4\", \"5\", \"6\", \"7\", \"pole\"]\n",
      "    positions = [0]\n",
      "    L = 100\n",
      "    delta = L/len(birds) #wire is 100m, birds evenly distributed\n",
      "    position = 0\n",
      "    for bird in birds: \n",
      "        position = position + delta\n",
      "        positions.append(position)\n",
      "    positions\n",
      "\n",
      "    \n",
      "    iterations = 0\n",
      "    #with open(\"bird_progress.txt\", 'a') as f:\n",
      "        #f.write(\"new trial\\n\")\n",
      "    coins = flip(positions)\n",
      "    while len(positions) > 2 and iterations < 30:\n",
      "        iterations += 1\n",
      "        positions = travel(coins, positions, delta)\n",
      "        positions, coins = test_birds(positions, coins)\n",
      "            #f.write(str(positions))\n",
      "            #f.write(str(coins))\n",
      "            #f.write(\"\\n\")\n",
      "        #f.write(str(iterations) + \" iterations\\n\")\n",
      "    total_iter = total_iter + iterations\n"
     ],
     "language": "python",
     "metadata": {},
     "outputs": [],
     "prompt_number": 310
    },
    {
     "cell_type": "code",
     "collapsed": false,
     "input": [
      "total_iter/100000.0\n"
     ],
     "language": "python",
     "metadata": {},
     "outputs": [
      {
       "metadata": {},
       "output_type": "pyout",
       "prompt_number": 311,
       "text": [
        "11.72881"
       ]
      }
     ],
     "prompt_number": 311
    },
    {
     "cell_type": "code",
     "collapsed": false,
     "input": [],
     "language": "python",
     "metadata": {},
     "outputs": [],
     "prompt_number": 262
    },
    {
     "cell_type": "code",
     "collapsed": false,
     "input": [],
     "language": "python",
     "metadata": {},
     "outputs": []
    }
   ],
   "metadata": {}
  }
 ]
}